{
 "cells": [
  {
   "cell_type": "code",
   "execution_count": 3,
   "id": "e0b84293-76d3-459d-89c6-0c31d6f2572c",
   "metadata": {},
   "outputs": [],
   "source": [
    "# !wget https://github.com/alexeygrigorev/minsearch/blob/main/minsearch.py"
   ]
  },
  {
   "cell_type": "code",
   "execution_count": 4,
   "id": "2c84f497-6380-4b26-99a5-5c4eb359692d",
   "metadata": {},
   "outputs": [],
   "source": [
    "import minsearch"
   ]
  },
  {
   "cell_type": "code",
   "execution_count": 5,
   "id": "7531a308-3638-4b3b-9275-28e21f944ef5",
   "metadata": {},
   "outputs": [
    {
     "name": "stdout",
     "output_type": "stream",
     "text": [
      "--2024-07-05 11:44:22--  https://github.com/DataTalksClub/llm-zoomcamp/blob/main/01-intro/documents.json\n",
      "Resolving github.com (github.com)... 20.207.73.82\n",
      "Connecting to github.com (github.com)|20.207.73.82|:443... connected.\n",
      "HTTP request sent, awaiting response... 200 OK\n",
      "Length: unspecified [text/html]\n",
      "Saving to: ‘documents.json’\n",
      "\n",
      "documents.json          [ <=>                ]   1.27M  --.-KB/s    in 0.03s   \n",
      "\n",
      "2024-07-05 11:44:22 (37.6 MB/s) - ‘documents.json’ saved [1336541]\n",
      "\n"
     ]
    }
   ],
   "source": [
    "!wget https://github.com/DataTalksClub/llm-zoomcamp/blob/main/01-intro/documents.json"
   ]
  },
  {
   "cell_type": "code",
   "execution_count": null,
   "id": "3e8a6a7f-e299-4951-870e-17f70c2e6a13",
   "metadata": {},
   "outputs": [],
   "source": []
  }
 ],
 "metadata": {
  "kernelspec": {
   "display_name": "Python 3 (ipykernel)",
   "language": "python",
   "name": "python3"
  },
  "language_info": {
   "codemirror_mode": {
    "name": "ipython",
    "version": 3
   },
   "file_extension": ".py",
   "mimetype": "text/x-python",
   "name": "python",
   "nbconvert_exporter": "python",
   "pygments_lexer": "ipython3",
   "version": "3.10.13"
  }
 },
 "nbformat": 4,
 "nbformat_minor": 5
}
